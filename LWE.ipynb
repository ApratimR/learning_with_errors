{
 "cells": [
  {
   "cell_type": "code",
   "execution_count": 224,
   "metadata": {},
   "outputs": [],
   "source": [
    "import numpy\n",
    "import secrets"
   ]
  },
  {
   "cell_type": "code",
   "execution_count": 406,
   "metadata": {},
   "outputs": [
    {
     "name": "stdout",
     "output_type": "stream",
     "text": [
      "[978, 819, 871]\n"
     ]
    }
   ],
   "source": [
    "def gen_val():\n",
    "    return secrets.randbelow(1024)\n",
    "solution = [gen_val(),gen_val(),gen_val()]\n",
    "\n",
    "def add_small_error():\n",
    "    return secrets.randbelow(10)\n",
    "print(solution)\n",
    "\n",
    "def equation_selector():\n",
    "    return secrets.randbelow(2)\n",
    "\n",
    "def add_big_error():\n",
    "    return secrets.choice(range(400,450))"
   ]
  },
  {
   "cell_type": "markdown",
   "metadata": {},
   "source": [
    "## The Keygen Process"
   ]
  },
  {
   "cell_type": "code",
   "execution_count": 407,
   "metadata": {},
   "outputs": [
    {
     "name": "stdout",
     "output_type": "stream",
     "text": [
      "{0: [249, 504, 473, 249], 1: [447, 875, 1007, 296], 2: [791, 128, 198, 264], 3: [576, 762, 642, 668], 4: [586, 878, 262, 776], 5: [541, 79, 781, 194], 6: [44, 31, 1021, 272], 7: [502, 817, 756, 955], 8: [517, 757, 488, 321], 9: [826, 622, 67, 371], 10: [143, 507, 123, 716], 11: [900, 416, 379, 677], 12: [449, 443, 436, 1023], 13: [678, 423, 805, 596], 14: [374, 108, 248, 536], 15: [269, 579, 809, 130], 16: [980, 702, 947, 967], 17: [716, 28, 229, 15], 18: [107, 586, 92, 136], 19: [543, 142, 554, 414]}\n"
     ]
    }
   ],
   "source": [
    "#generate sets of equtions\n",
    "equations = {}\n",
    "\n",
    "for temp in range(20):\n",
    "    equations[temp] = [gen_val(),gen_val(),gen_val()]\n",
    "    current_sol = (equations[temp][0]*solution[0]+equations[temp][1]*solution[1]+equations[temp][2]*solution[2])%1024\n",
    "    equations[temp].append(current_sol)\n",
    "\n",
    "print(equations)"
   ]
  },
  {
   "cell_type": "code",
   "execution_count": 408,
   "metadata": {},
   "outputs": [
    {
     "name": "stdout",
     "output_type": "stream",
     "text": [
      "{0: [249, 504, 473, 257], 1: [447, 875, 1007, 303], 2: [791, 128, 198, 266], 3: [576, 762, 642, 672], 4: [586, 878, 262, 776], 5: [541, 79, 781, 197], 6: [44, 31, 1021, 274], 7: [502, 817, 756, 961], 8: [517, 757, 488, 329], 9: [826, 622, 67, 375], 10: [143, 507, 123, 723], 11: [900, 416, 379, 682], 12: [449, 443, 436, 2], 13: [678, 423, 805, 597], 14: [374, 108, 248, 543], 15: [269, 579, 809, 130], 16: [980, 702, 947, 974], 17: [716, 28, 229, 16], 18: [107, 586, 92, 138], 19: [543, 142, 554, 419]}\n"
     ]
    }
   ],
   "source": [
    "#introduce errors\n",
    "for temp in equations:\n",
    "    equations[temp][3]=(equations[temp][3]+add_small_error())%1024\n",
    "\n",
    "print(equations)"
   ]
  },
  {
   "cell_type": "markdown",
   "metadata": {},
   "source": [
    "## Public Key As"
   ]
  },
  {
   "cell_type": "code",
   "execution_count": 409,
   "metadata": {},
   "outputs": [
    {
     "data": {
      "text/plain": [
       "{0: [249, 504, 473, 257],\n",
       " 1: [447, 875, 1007, 303],\n",
       " 2: [791, 128, 198, 266],\n",
       " 3: [576, 762, 642, 672],\n",
       " 4: [586, 878, 262, 776],\n",
       " 5: [541, 79, 781, 197],\n",
       " 6: [44, 31, 1021, 274],\n",
       " 7: [502, 817, 756, 961],\n",
       " 8: [517, 757, 488, 329],\n",
       " 9: [826, 622, 67, 375],\n",
       " 10: [143, 507, 123, 723],\n",
       " 11: [900, 416, 379, 682],\n",
       " 12: [449, 443, 436, 2],\n",
       " 13: [678, 423, 805, 597],\n",
       " 14: [374, 108, 248, 543],\n",
       " 15: [269, 579, 809, 130],\n",
       " 16: [980, 702, 947, 974],\n",
       " 17: [716, 28, 229, 16],\n",
       " 18: [107, 586, 92, 138],\n",
       " 19: [543, 142, 554, 419]}"
      ]
     },
     "execution_count": 409,
     "metadata": {},
     "output_type": "execute_result"
    }
   ],
   "source": [
    "equations"
   ]
  },
  {
   "cell_type": "markdown",
   "metadata": {},
   "source": [
    "### User generates list of randomly selected equation from list"
   ]
  },
  {
   "cell_type": "code",
   "execution_count": 410,
   "metadata": {},
   "outputs": [
    {
     "data": {
      "text/plain": [
       "[0, 0, 1, 0, 0, 0, 0, 0, 1, 0, 0, 1, 1, 1, 0, 0, 0, 1, 0, 1]"
      ]
     },
     "execution_count": 410,
     "metadata": {},
     "output_type": "execute_result"
    }
   ],
   "source": [
    "selection_acceptable = True\n",
    "while selection_acceptable :\n",
    "    selection_list = [equation_selector() for _ in range(20)]\n",
    "    if selection_list.count(1)>=5:\n",
    "        selection_acceptable = False\n",
    "\n",
    "selection_list"
   ]
  },
  {
   "cell_type": "code",
   "execution_count": 411,
   "metadata": {},
   "outputs": [
    {
     "data": {
      "text/plain": [
       "{2: [791, 128, 198, 266], 8: [517, 757, 488, 329], 11: [900, 416, 379, 682]}"
      ]
     },
     "execution_count": 411,
     "metadata": {},
     "output_type": "execute_result"
    }
   ],
   "source": [
    "equations_selected = {}\n",
    "for count,temp in enumerate(selection_list):\n",
    "    if temp == 1 and len(equations_selected)!=3:\n",
    "        equations_selected[count] = equations[count]\n",
    "        \n",
    "equations_selected"
   ]
  },
  {
   "cell_type": "markdown",
   "metadata": {},
   "source": [
    "### User sums up the equations"
   ]
  },
  {
   "cell_type": "code",
   "execution_count": 412,
   "metadata": {},
   "outputs": [
    {
     "name": "stdout",
     "output_type": "stream",
     "text": [
      "0 0 0 0\n",
      "791 128 198 266\n",
      "1308 885 686 595\n",
      "2208 1301 1065 1277\n"
     ]
    }
   ],
   "source": [
    "x,y,z,res = 0,0,0,0\n",
    "print(x,y,z,res)\n",
    "\n",
    "for temp in equations_selected:\n",
    "    x += equations_selected[temp][0]\n",
    "    y += equations_selected[temp][1]\n",
    "    z += equations_selected[temp][2]\n",
    "    res += equations_selected[temp][3]\n",
    "    \n",
    "    print(x,y,z,res)"
   ]
  },
  {
   "cell_type": "markdown",
   "metadata": {},
   "source": [
    "### User introduces Error Based on Bit to be transfered"
   ]
  },
  {
   "cell_type": "code",
   "execution_count": 558,
   "metadata": {},
   "outputs": [],
   "source": [
    "bit = 0\n",
    "if bit == 0:\n",
    "    temp = res + add_small_error()\n",
    "else:\n",
    "    temp = res + add_big_error()\n",
    "\n",
    "x= x%1024\n",
    "y= y%1024\n",
    "z= z%1024\n",
    "temp = temp %1024\n"
   ]
  },
  {
   "cell_type": "code",
   "execution_count": 559,
   "metadata": {},
   "outputs": [
    {
     "data": {
      "text/plain": [
       "{'Data': [160, 277, 41, 256]}"
      ]
     },
     "execution_count": 559,
     "metadata": {},
     "output_type": "execute_result"
    }
   ],
   "source": [
    "data_to_decrypt = {\"Data\" : [x,y,z,temp]}\n",
    "data_to_decrypt"
   ]
  },
  {
   "cell_type": "code",
   "execution_count": 560,
   "metadata": {},
   "outputs": [
    {
     "data": {
      "text/plain": [
       "[978, 819, 871]"
      ]
     },
     "execution_count": 560,
     "metadata": {},
     "output_type": "execute_result"
    }
   ],
   "source": [
    "data = data_to_decrypt[\"Data\"]\n",
    "solution"
   ]
  },
  {
   "cell_type": "markdown",
   "metadata": {},
   "source": [
    "### To evaluate the guy with key values and checks for the error amount"
   ]
  },
  {
   "cell_type": "code",
   "execution_count": 561,
   "metadata": {},
   "outputs": [
    {
     "data": {
      "text/plain": [
       "238"
      ]
     },
     "execution_count": 561,
     "metadata": {},
     "output_type": "execute_result"
    }
   ],
   "source": [
    "sum_from_data = data[0]*solution[0]+data[1]*solution[1]+data[2]*solution[2]\n",
    "sum_from_data=sum_from_data%1024\n",
    "sum_from_data"
   ]
  },
  {
   "cell_type": "code",
   "execution_count": 562,
   "metadata": {},
   "outputs": [
    {
     "data": {
      "text/plain": [
       "18"
      ]
     },
     "execution_count": 562,
     "metadata": {},
     "output_type": "execute_result"
    }
   ],
   "source": [
    "error = abs(data[3] - sum_from_data)\n",
    "error"
   ]
  },
  {
   "cell_type": "code",
   "execution_count": null,
   "metadata": {},
   "outputs": [],
   "source": []
  }
 ],
 "metadata": {
  "kernelspec": {
   "display_name": "Python 3.10.4 ('personal')",
   "language": "python",
   "name": "python3"
  },
  "language_info": {
   "codemirror_mode": {
    "name": "ipython",
    "version": 3
   },
   "file_extension": ".py",
   "mimetype": "text/x-python",
   "name": "python",
   "nbconvert_exporter": "python",
   "pygments_lexer": "ipython3",
   "version": "3.10.6"
  },
  "orig_nbformat": 4,
  "vscode": {
   "interpreter": {
    "hash": "499ac1954be8521158edb4294a5651a54430cfffab87d4f39a512b493376be46"
   }
  }
 },
 "nbformat": 4,
 "nbformat_minor": 2
}
