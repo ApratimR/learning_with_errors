{
 "cells": [
  {
   "cell_type": "code",
   "execution_count": 1,
   "metadata": {},
   "outputs": [],
   "source": [
    "import numpy\n",
    "import secrets"
   ]
  },
  {
   "cell_type": "code",
   "execution_count": 70,
   "metadata": {},
   "outputs": [
    {
     "name": "stdout",
     "output_type": "stream",
     "text": [
      "[669, 895, 323]\n"
     ]
    }
   ],
   "source": [
    "def gen_val():\n",
    "    return secrets.randbelow(1024)\n",
    "solution = [gen_val(),gen_val(),gen_val()]\n",
    "\n",
    "def add_small_error():\n",
    "    return secrets.randbelow(20)\n",
    "print(solution)\n",
    "\n",
    "def equation_selector():\n",
    "    return secrets.randbelow(2)\n",
    "\n",
    "def add_big_error():\n",
    "    return secrets.choice(range(400,500))"
   ]
  },
  {
   "cell_type": "markdown",
   "metadata": {},
   "source": [
    "## The Keygen Process"
   ]
  },
  {
   "cell_type": "code",
   "execution_count": 71,
   "metadata": {},
   "outputs": [
    {
     "name": "stdout",
     "output_type": "stream",
     "text": [
      "{0: [398, 756, 230, 340], 1: [564, 449, 229, 146], 2: [570, 390, 440, 52], 3: [438, 818, 646, 894], 4: [811, 883, 805, 539], 5: [789, 967, 129, 349], 6: [8, 93, 185, 886], 7: [931, 531, 960, 164], 8: [684, 505, 849, 54], 9: [115, 797, 121, 917], 10: [997, 3, 249, 537], 11: [1023, 442, 959, 166], 12: [64, 152, 394, 966], 13: [358, 719, 491, 192], 14: [535, 277, 273, 761], 15: [640, 400, 202, 462], 16: [789, 93, 634, 754], 17: [417, 327, 185, 609], 18: [369, 302, 162, 133], 19: [569, 23, 990, 120]}\n"
     ]
    }
   ],
   "source": [
    "#generate sets of equtions\n",
    "equations = {}\n",
    "\n",
    "for temp in range(20):\n",
    "    equations[temp] = [gen_val(),gen_val(),gen_val()]\n",
    "    current_sol = (equations[temp][0]*solution[0]+equations[temp][1]*solution[1]+equations[temp][2]*solution[2])%1024\n",
    "    equations[temp].append(current_sol)\n",
    "\n",
    "print(equations)"
   ]
  },
  {
   "cell_type": "code",
   "execution_count": 72,
   "metadata": {},
   "outputs": [
    {
     "name": "stdout",
     "output_type": "stream",
     "text": [
      "{0: [398, 756, 230, 352], 1: [564, 449, 229, 150], 2: [570, 390, 440, 61], 3: [438, 818, 646, 907], 4: [811, 883, 805, 541], 5: [789, 967, 129, 362], 6: [8, 93, 185, 894], 7: [931, 531, 960, 169], 8: [684, 505, 849, 63], 9: [115, 797, 121, 923], 10: [997, 3, 249, 545], 11: [1023, 442, 959, 184], 12: [64, 152, 394, 985], 13: [358, 719, 491, 195], 14: [535, 277, 273, 768], 15: [640, 400, 202, 473], 16: [789, 93, 634, 765], 17: [417, 327, 185, 612], 18: [369, 302, 162, 136], 19: [569, 23, 990, 126]}\n"
     ]
    }
   ],
   "source": [
    "#introduce errors\n",
    "for temp in equations:\n",
    "    equations[temp][3]=(equations[temp][3]+add_small_error())%1024\n",
    "\n",
    "print(equations)"
   ]
  },
  {
   "cell_type": "markdown",
   "metadata": {},
   "source": [
    "## Public Key As"
   ]
  },
  {
   "cell_type": "code",
   "execution_count": 73,
   "metadata": {},
   "outputs": [
    {
     "data": {
      "text/plain": [
       "{0: [398, 756, 230, 352],\n",
       " 1: [564, 449, 229, 150],\n",
       " 2: [570, 390, 440, 61],\n",
       " 3: [438, 818, 646, 907],\n",
       " 4: [811, 883, 805, 541],\n",
       " 5: [789, 967, 129, 362],\n",
       " 6: [8, 93, 185, 894],\n",
       " 7: [931, 531, 960, 169],\n",
       " 8: [684, 505, 849, 63],\n",
       " 9: [115, 797, 121, 923],\n",
       " 10: [997, 3, 249, 545],\n",
       " 11: [1023, 442, 959, 184],\n",
       " 12: [64, 152, 394, 985],\n",
       " 13: [358, 719, 491, 195],\n",
       " 14: [535, 277, 273, 768],\n",
       " 15: [640, 400, 202, 473],\n",
       " 16: [789, 93, 634, 765],\n",
       " 17: [417, 327, 185, 612],\n",
       " 18: [369, 302, 162, 136],\n",
       " 19: [569, 23, 990, 126]}"
      ]
     },
     "execution_count": 73,
     "metadata": {},
     "output_type": "execute_result"
    }
   ],
   "source": [
    "equations"
   ]
  },
  {
   "cell_type": "markdown",
   "metadata": {},
   "source": [
    "### User generates list of randomly selected equation from list"
   ]
  },
  {
   "cell_type": "code",
   "execution_count": 74,
   "metadata": {},
   "outputs": [
    {
     "data": {
      "text/plain": [
       "[1, 1, 0, 1, 1, 0, 0, 0, 1, 1, 1, 1, 1, 1, 1, 0, 0, 0, 0, 1]"
      ]
     },
     "execution_count": 74,
     "metadata": {},
     "output_type": "execute_result"
    }
   ],
   "source": [
    "selection_acceptable = True\n",
    "while selection_acceptable :\n",
    "    selection_list = [equation_selector() for _ in range(20)]\n",
    "    if selection_list.count(1)>=5:\n",
    "        selection_acceptable = False\n",
    "\n",
    "selection_list"
   ]
  },
  {
   "cell_type": "code",
   "execution_count": 75,
   "metadata": {},
   "outputs": [
    {
     "data": {
      "text/plain": [
       "{0: [398, 756, 230, 352], 1: [564, 449, 229, 150], 3: [438, 818, 646, 907]}"
      ]
     },
     "execution_count": 75,
     "metadata": {},
     "output_type": "execute_result"
    }
   ],
   "source": [
    "equations_selected = {}\n",
    "for count,temp in enumerate(selection_list):\n",
    "    if temp == 1 and len(equations_selected)!=3:\n",
    "        equations_selected[count] = equations[count]\n",
    "        \n",
    "equations_selected"
   ]
  },
  {
   "cell_type": "markdown",
   "metadata": {},
   "source": [
    "### User sums up the equations"
   ]
  },
  {
   "cell_type": "code",
   "execution_count": 76,
   "metadata": {},
   "outputs": [
    {
     "name": "stdout",
     "output_type": "stream",
     "text": [
      "0 0 0 0\n",
      "398 756 230 352\n",
      "962 1205 459 502\n",
      "1400 2023 1105 1409\n"
     ]
    }
   ],
   "source": [
    "x,y,z,res = 0,0,0,0\n",
    "print(x,y,z,res)\n",
    "\n",
    "for temp in equations_selected:\n",
    "    x += equations_selected[temp][0]\n",
    "    y += equations_selected[temp][1]\n",
    "    z += equations_selected[temp][2]\n",
    "    res += equations_selected[temp][3]\n",
    "    \n",
    "    print(x,y,z,res)"
   ]
  },
  {
   "cell_type": "markdown",
   "metadata": {},
   "source": [
    "### User introduces Error Based on Bit to be transfered"
   ]
  },
  {
   "cell_type": "code",
   "execution_count": 82,
   "metadata": {},
   "outputs": [],
   "source": [
    "bit = 1\n",
    "if bit == 0:\n",
    "    res += add_small_error()\n",
    "else:\n",
    "    res += add_big_error()\n",
    "\n",
    "x= x%1024\n",
    "y= y%1024\n",
    "z= z%1024\n",
    "res = res %1024\n"
   ]
  },
  {
   "cell_type": "code",
   "execution_count": 83,
   "metadata": {},
   "outputs": [
    {
     "data": {
      "text/plain": [
       "{'Data': [376, 999, 81, 835]}"
      ]
     },
     "execution_count": 83,
     "metadata": {},
     "output_type": "execute_result"
    }
   ],
   "source": [
    "data_to_decrypt = {\"Data\" : [x,y,z,res]}\n",
    "data_to_decrypt"
   ]
  },
  {
   "cell_type": "code",
   "execution_count": 84,
   "metadata": {},
   "outputs": [
    {
     "data": {
      "text/plain": [
       "[669, 895, 323]"
      ]
     },
     "execution_count": 84,
     "metadata": {},
     "output_type": "execute_result"
    }
   ],
   "source": [
    "data = data_to_decrypt[\"Data\"]\n",
    "solution"
   ]
  },
  {
   "cell_type": "markdown",
   "metadata": {},
   "source": [
    "### To evaluate the guy with key values and checks for the error amount"
   ]
  },
  {
   "cell_type": "code",
   "execution_count": 85,
   "metadata": {},
   "outputs": [
    {
     "data": {
      "text/plain": [
       "356"
      ]
     },
     "execution_count": 85,
     "metadata": {},
     "output_type": "execute_result"
    }
   ],
   "source": [
    "sum_from_data = data[0]*solution[0]+data[1]*solution[1]+data[2]*solution[2]\n",
    "sum_from_data=sum_from_data%1024\n",
    "sum_from_data"
   ]
  },
  {
   "cell_type": "code",
   "execution_count": 86,
   "metadata": {},
   "outputs": [
    {
     "data": {
      "text/plain": [
       "479"
      ]
     },
     "execution_count": 86,
     "metadata": {},
     "output_type": "execute_result"
    }
   ],
   "source": [
    "error = data[3]-sum_from_data\n",
    "error"
   ]
  },
  {
   "cell_type": "code",
   "execution_count": null,
   "metadata": {},
   "outputs": [],
   "source": []
  }
 ],
 "metadata": {
  "kernelspec": {
   "display_name": "Python 3.10.4 ('neural')",
   "language": "python",
   "name": "python3"
  },
  "language_info": {
   "codemirror_mode": {
    "name": "ipython",
    "version": 3
   },
   "file_extension": ".py",
   "mimetype": "text/x-python",
   "name": "python",
   "nbconvert_exporter": "python",
   "pygments_lexer": "ipython3",
   "version": "3.10.4"
  },
  "orig_nbformat": 4,
  "vscode": {
   "interpreter": {
    "hash": "e627ac4f2d1fc1ac79e0e555ffe0adea11eb85f3aa5757afa98c482b36011482"
   }
  }
 },
 "nbformat": 4,
 "nbformat_minor": 2
}
